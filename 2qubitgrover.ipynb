{
  "nbformat": 4,
  "nbformat_minor": 0,
  "metadata": {
    "colab": {
      "name": "2qubitgrover.ipynb",
      "version": "0.3.2",
      "provenance": [],
      "collapsed_sections": []
    },
    "kernelspec": {
      "name": "python3",
      "display_name": "Python 3"
    }
  },
  "cells": [
    {
      "cell_type": "code",
      "metadata": {
        "id": "YOHra_Hs4hRN",
        "colab_type": "code",
        "outputId": "daa64a24-f783-4ee8-bbdb-859ccc183c8c",
        "colab": {
          "base_uri": "https://localhost:8080/",
          "height": 1000
        }
      },
      "source": [
        "!pip install qiskit"
      ],
      "execution_count": 1,
      "outputs": [
        {
          "output_type": "stream",
          "text": [
            "Collecting qiskit\n",
            "  Downloading https://files.pythonhosted.org/packages/5a/d6/bbb178455616d8aabd4d9df5110681d847da8303d3bd81d856fc14f929eb/qiskit-0.12.0.tar.gz\n",
            "Collecting qiskit_terra==0.9.0 (from qiskit)\n",
            "\u001b[?25l  Downloading https://files.pythonhosted.org/packages/02/af/d41b625d00621e346844503cb1c27e3b0f9e5469e702276e5c1dfb236d03/qiskit_terra-0.9.0-cp36-cp36m-manylinux1_x86_64.whl (1.6MB)\n",
            "\u001b[K     |████████████████████████████████| 1.6MB 2.9MB/s \n",
            "\u001b[?25hCollecting qiskit-aer==0.3.0 (from qiskit)\n",
            "\u001b[?25l  Downloading https://files.pythonhosted.org/packages/6f/0e/1d7668ffafb85b373bc8681f3f6adffacd957a258a4a7211178cfc7e8559/qiskit_aer-0.3.0-cp36-cp36m-manylinux1_x86_64.whl (21.6MB)\n",
            "\u001b[K     |████████████████████████████████| 21.6MB 75.0MB/s \n",
            "\u001b[?25hCollecting qiskit-ibmq-provider==0.3.2 (from qiskit)\n",
            "\u001b[?25l  Downloading https://files.pythonhosted.org/packages/bb/eb/9c3e007c625b136c66a3f6da73f682f6ec32f6ee8274d998d84ec51cf3be/qiskit_ibmq_provider-0.3.2-py3-none-any.whl (85kB)\n",
            "\u001b[K     |████████████████████████████████| 92kB 26.2MB/s \n",
            "\u001b[?25hCollecting qiskit-ignis==0.2.0 (from qiskit)\n",
            "\u001b[?25l  Downloading https://files.pythonhosted.org/packages/78/f2/f4f89c65d2c13f473092f7e800519836611ddeeaab8d4591a70555b26a37/qiskit_ignis-0.2.0-py3-none-any.whl (100kB)\n",
            "\u001b[K     |████████████████████████████████| 102kB 29.3MB/s \n",
            "\u001b[?25hCollecting qiskit-aqua==0.6.0 (from qiskit)\n",
            "\u001b[?25l  Downloading https://files.pythonhosted.org/packages/5f/c0/894d00f156458edc5fd0dd559c07889c4bb3c8ca9ea17c921737bfcad6d9/qiskit_aqua-0.6.0-py3-none-any.whl (979kB)\n",
            "\u001b[K     |████████████████████████████████| 983kB 38.5MB/s \n",
            "\u001b[?25hCollecting sympy>=1.3 (from qiskit_terra==0.9.0->qiskit)\n",
            "\u001b[?25l  Downloading https://files.pythonhosted.org/packages/21/21/f4105795ca7f35c541d82c5b06be684dd2f5cb4f508fb487cd7aea4de776/sympy-1.4-py2.py3-none-any.whl (5.3MB)\n",
            "\u001b[K     |████████████████████████████████| 5.3MB 34.4MB/s \n",
            "\u001b[?25hCollecting ply>=3.10 (from qiskit_terra==0.9.0->qiskit)\n",
            "\u001b[?25l  Downloading https://files.pythonhosted.org/packages/a3/58/35da89ee790598a0700ea49b2a66594140f44dec458c07e8e3d4979137fc/ply-3.11-py2.py3-none-any.whl (49kB)\n",
            "\u001b[K     |████████████████████████████████| 51kB 20.8MB/s \n",
            "\u001b[?25hCollecting marshmallow<3,>=2.17.0 (from qiskit_terra==0.9.0->qiskit)\n",
            "\u001b[?25l  Downloading https://files.pythonhosted.org/packages/45/1c/8bcd49a62807c3df330dc470a4e04060d0437015e9a078e1968aba93c645/marshmallow-2.20.3-py2.py3-none-any.whl (50kB)\n",
            "\u001b[K     |████████████████████████████████| 51kB 17.4MB/s \n",
            "\u001b[?25hRequirement already satisfied: jsonschema<2.7,>=2.6 in /usr/local/lib/python3.6/dist-packages (from qiskit_terra==0.9.0->qiskit) (2.6.0)\n",
            "Requirement already satisfied: psutil>=5 in /usr/local/lib/python3.6/dist-packages (from qiskit_terra==0.9.0->qiskit) (5.4.8)\n",
            "Requirement already satisfied: networkx>=2.2 in /usr/local/lib/python3.6/dist-packages (from qiskit_terra==0.9.0->qiskit) (2.3)\n",
            "Requirement already satisfied: scipy>=1.0 in /usr/local/lib/python3.6/dist-packages (from qiskit_terra==0.9.0->qiskit) (1.3.1)\n",
            "Requirement already satisfied: numpy>=1.13 in /usr/local/lib/python3.6/dist-packages (from qiskit_terra==0.9.0->qiskit) (1.16.5)\n",
            "Collecting marshmallow-polyfield<4,>=3.2 (from qiskit_terra==0.9.0->qiskit)\n",
            "  Downloading https://files.pythonhosted.org/packages/fa/ba/6406b8cce3e42b2838d234310c3605627083bbb8f71dcc312c616480fe92/marshmallow_polyfield-3.2-py2.py3-none-any.whl\n",
            "Requirement already satisfied: requests>=2.19 in /usr/local/lib/python3.6/dist-packages (from qiskit-ibmq-provider==0.3.2->qiskit) (2.21.0)\n",
            "Collecting websockets<8,>=7 (from qiskit-ibmq-provider==0.3.2->qiskit)\n",
            "\u001b[?25l  Downloading https://files.pythonhosted.org/packages/43/71/8bfa882b9c502c36e5c9ef6732969533670d2b039cbf95a82ced8f762b80/websockets-7.0-cp36-cp36m-manylinux1_x86_64.whl (63kB)\n",
            "\u001b[K     |████████████████████████████████| 71kB 23.8MB/s \n",
            "\u001b[?25hCollecting requests-ntlm>=1.1.0 (from qiskit-ibmq-provider==0.3.2->qiskit)\n",
            "  Downloading https://files.pythonhosted.org/packages/03/4b/8b9a1afde8072c4d5710d9fa91433d504325821b038e00237dc8d6d833dc/requests_ntlm-1.1.0-py2.py3-none-any.whl\n",
            "Collecting nest-asyncio==1.0.0 (from qiskit-ibmq-provider==0.3.2->qiskit)\n",
            "  Downloading https://files.pythonhosted.org/packages/62/18/4c6a895c925e8822e72535d774861e9ca07089c4b938ed20002b1aaab66a/nest_asyncio-1.0.0-py3-none-any.whl\n",
            "Requirement already satisfied: setuptools>=40.1.0 in /usr/local/lib/python3.6/dist-packages (from qiskit-ignis==0.2.0->qiskit) (41.2.0)\n",
            "Collecting dlx (from qiskit-aqua==0.6.0->qiskit)\n",
            "  Downloading https://files.pythonhosted.org/packages/54/c0/b8fb5bb727e983b6f5251433ef941b48f38c65bb0bd6ec509e9185bcd406/dlx-1.0.4.tar.gz\n",
            "Collecting docplex (from qiskit-aqua==0.6.0->qiskit)\n",
            "\u001b[?25l  Downloading https://files.pythonhosted.org/packages/fb/b9/37d68e68bbb46625a283c6b900989934538d5fb2ae6e7748288641fbac30/docplex-2.10.155.tar.gz (529kB)\n",
            "\u001b[K     |████████████████████████████████| 532kB 46.1MB/s \n",
            "\u001b[?25hRequirement already satisfied: cvxopt in /usr/local/lib/python3.6/dist-packages (from qiskit-aqua==0.6.0->qiskit) (1.2.3)\n",
            "Requirement already satisfied: fastdtw in /usr/local/lib/python3.6/dist-packages (from qiskit-aqua==0.6.0->qiskit) (0.3.2)\n",
            "Requirement already satisfied: h5py in /usr/local/lib/python3.6/dist-packages (from qiskit-aqua==0.6.0->qiskit) (2.8.0)\n",
            "Collecting quandl (from qiskit-aqua==0.6.0->qiskit)\n",
            "  Downloading https://files.pythonhosted.org/packages/12/64/6314547cb01fa75697ddba6d6d43a9f1d023c1730ffc6abf3db7a0c89222/Quandl-3.4.8-py2.py3-none-any.whl\n",
            "Requirement already satisfied: scikit-learn>=0.20.0 in /usr/local/lib/python3.6/dist-packages (from qiskit-aqua==0.6.0->qiskit) (0.21.3)\n",
            "Collecting pyscf; sys_platform != \"win32\" (from qiskit-aqua==0.6.0->qiskit)\n",
            "\u001b[?25l  Downloading https://files.pythonhosted.org/packages/32/68/4ed8ee5f0d6befde0a7a345a359fee0958ab5ae82bef62ddefa974458efa/pyscf-1.6.3-cp36-cp36m-manylinux1_x86_64.whl (21.5MB)\n",
            "\u001b[K     |████████████████████████████████| 21.5MB 36.7MB/s \n",
            "\u001b[?25hRequirement already satisfied: mpmath>=0.19 in /usr/local/lib/python3.6/dist-packages (from sympy>=1.3->qiskit_terra==0.9.0->qiskit) (1.1.0)\n",
            "Requirement already satisfied: decorator>=4.3.0 in /usr/local/lib/python3.6/dist-packages (from networkx>=2.2->qiskit_terra==0.9.0->qiskit) (4.4.0)\n",
            "Requirement already satisfied: urllib3<1.25,>=1.21.1 in /usr/local/lib/python3.6/dist-packages (from requests>=2.19->qiskit-ibmq-provider==0.3.2->qiskit) (1.24.3)\n",
            "Requirement already satisfied: idna<2.9,>=2.5 in /usr/local/lib/python3.6/dist-packages (from requests>=2.19->qiskit-ibmq-provider==0.3.2->qiskit) (2.8)\n",
            "Requirement already satisfied: certifi>=2017.4.17 in /usr/local/lib/python3.6/dist-packages (from requests>=2.19->qiskit-ibmq-provider==0.3.2->qiskit) (2019.6.16)\n",
            "Requirement already satisfied: chardet<3.1.0,>=3.0.2 in /usr/local/lib/python3.6/dist-packages (from requests>=2.19->qiskit-ibmq-provider==0.3.2->qiskit) (3.0.4)\n",
            "Collecting cryptography>=1.3 (from requests-ntlm>=1.1.0->qiskit-ibmq-provider==0.3.2->qiskit)\n",
            "\u001b[?25l  Downloading https://files.pythonhosted.org/packages/97/18/c6557f63a6abde34707196fb2cad1c6dc0dbff25a200d5044922496668a4/cryptography-2.7-cp34-abi3-manylinux1_x86_64.whl (2.3MB)\n",
            "\u001b[K     |████████████████████████████████| 2.3MB 38.0MB/s \n",
            "\u001b[?25hCollecting ntlm-auth>=1.0.2 (from requests-ntlm>=1.1.0->qiskit-ibmq-provider==0.3.2->qiskit)\n",
            "  Downloading https://files.pythonhosted.org/packages/50/09/5e397eb18685b14fd8b209e26cdb4fa6451c82c1bcc651fef05fa73e7b27/ntlm_auth-1.4.0-py2.py3-none-any.whl\n",
            "Requirement already satisfied: six in /usr/local/lib/python3.6/dist-packages (from docplex->qiskit-aqua==0.6.0->qiskit) (1.12.0)\n",
            "Collecting docloud>=1.0.369 (from docplex->qiskit-aqua==0.6.0->qiskit)\n",
            "  Downloading https://files.pythonhosted.org/packages/89/1c/fcb7ea86ae5cb7137a22f00bcaa785de2d102bd4a2b16383ec4a877a835b/docloud-1.0.375.tar.gz\n",
            "Collecting ndg-httpsclient (from quandl->qiskit-aqua==0.6.0->qiskit)\n",
            "  Downloading https://files.pythonhosted.org/packages/fb/67/c2f508c00ed2a6911541494504b7cac16fe0b0473912568df65fd1801132/ndg_httpsclient-0.5.1-py3-none-any.whl\n",
            "Requirement already satisfied: pyasn1 in /usr/local/lib/python3.6/dist-packages (from quandl->qiskit-aqua==0.6.0->qiskit) (0.4.6)\n",
            "Collecting inflection>=0.3.1 (from quandl->qiskit-aqua==0.6.0->qiskit)\n",
            "  Downloading https://files.pythonhosted.org/packages/d5/35/a6eb45b4e2356fe688b21570864d4aa0d0a880ce387defe9c589112077f8/inflection-0.3.1.tar.gz\n",
            "Collecting more-itertools<=5.0.0 (from quandl->qiskit-aqua==0.6.0->qiskit)\n",
            "\u001b[?25l  Downloading https://files.pythonhosted.org/packages/a4/a6/42f17d065bda1fac255db13afc94c93dbfb64393eae37c749b4cb0752fc7/more_itertools-5.0.0-py3-none-any.whl (52kB)\n",
            "\u001b[K     |████████████████████████████████| 61kB 24.4MB/s \n",
            "\u001b[?25hCollecting pyOpenSSL (from quandl->qiskit-aqua==0.6.0->qiskit)\n",
            "\u001b[?25l  Downloading https://files.pythonhosted.org/packages/01/c8/ceb170d81bd3941cbeb9940fc6cc2ef2ca4288d0ca8929ea4db5905d904d/pyOpenSSL-19.0.0-py2.py3-none-any.whl (53kB)\n",
            "\u001b[K     |████████████████████████████████| 61kB 24.9MB/s \n",
            "\u001b[?25hRequirement already satisfied: pandas>=0.14 in /usr/local/lib/python3.6/dist-packages (from quandl->qiskit-aqua==0.6.0->qiskit) (0.24.2)\n",
            "Requirement already satisfied: python-dateutil in /usr/local/lib/python3.6/dist-packages (from quandl->qiskit-aqua==0.6.0->qiskit) (2.5.3)\n",
            "Requirement already satisfied: joblib>=0.11 in /usr/local/lib/python3.6/dist-packages (from scikit-learn>=0.20.0->qiskit-aqua==0.6.0->qiskit) (0.13.2)\n",
            "Collecting asn1crypto>=0.21.0 (from cryptography>=1.3->requests-ntlm>=1.1.0->qiskit-ibmq-provider==0.3.2->qiskit)\n",
            "\u001b[?25l  Downloading https://files.pythonhosted.org/packages/ea/cd/35485615f45f30a510576f1a56d1e0a7ad7bd8ab5ed7cdc600ef7cd06222/asn1crypto-0.24.0-py2.py3-none-any.whl (101kB)\n",
            "\u001b[K     |████████████████████████████████| 102kB 32.3MB/s \n",
            "\u001b[?25hRequirement already satisfied: cffi!=1.11.3,>=1.8 in /usr/local/lib/python3.6/dist-packages (from cryptography>=1.3->requests-ntlm>=1.1.0->qiskit-ibmq-provider==0.3.2->qiskit) (1.12.3)\n",
            "Requirement already satisfied: pytz>=2011k in /usr/local/lib/python3.6/dist-packages (from pandas>=0.14->quandl->qiskit-aqua==0.6.0->qiskit) (2018.9)\n",
            "Requirement already satisfied: pycparser in /usr/local/lib/python3.6/dist-packages (from cffi!=1.11.3,>=1.8->cryptography>=1.3->requests-ntlm>=1.1.0->qiskit-ibmq-provider==0.3.2->qiskit) (2.19)\n",
            "Building wheels for collected packages: qiskit, dlx, docplex, docloud, inflection\n",
            "  Building wheel for qiskit (setup.py) ... \u001b[?25l\u001b[?25hdone\n",
            "  Created wheel for qiskit: filename=qiskit-0.12.0-cp36-none-any.whl size=1396 sha256=eac61f006cc23ae38d60e24ecfe7e1acac43ad3f3f1d7b6a86d3cdf8d49407e4\n",
            "  Stored in directory: /root/.cache/pip/wheels/de/fc/68/2318ad43f26583ec1ac8e30bedd43e71211c9256429b7f829c\n",
            "  Building wheel for dlx (setup.py) ... \u001b[?25l\u001b[?25hdone\n",
            "  Created wheel for dlx: filename=dlx-1.0.4-cp36-none-any.whl size=5710 sha256=9148885304ff8f4560e917e5a8f881ba4c6d9d557043c1062f489d19f1e3f19e\n",
            "  Stored in directory: /root/.cache/pip/wheels/bb/ba/15/fdd0deb104df3254912998150ba9245668db06b00af5912d1a\n",
            "  Building wheel for docplex (setup.py) ... \u001b[?25l\u001b[?25hdone\n",
            "  Created wheel for docplex: filename=docplex-2.10.155-cp36-none-any.whl size=591516 sha256=e3f834392230194411e6c804e8ade898fdb7f293b8e40201af5adef3596a6b2b\n",
            "  Stored in directory: /root/.cache/pip/wheels/4d/29/ab/0ff88dd04d5b6a360650695db638b9f607931a1d667348a439\n",
            "  Building wheel for docloud (setup.py) ... \u001b[?25l\u001b[?25hdone\n",
            "  Created wheel for docloud: filename=docloud-1.0.375-cp36-none-any.whl size=19479 sha256=0df14ac32c78612312049da17e339263ad6791633f4bef61e34325e00ac793cd\n",
            "  Stored in directory: /root/.cache/pip/wheels/4e/24/19/9b0e57545d7543ecec35c5faff78c058bf0c2506369c8b1d31\n",
            "  Building wheel for inflection (setup.py) ... \u001b[?25l\u001b[?25hdone\n",
            "  Created wheel for inflection: filename=inflection-0.3.1-cp36-none-any.whl size=6076 sha256=b50866a7bb088edc2aea20a159604f4eaaa1d7ed8da8fafb8228d2caffa30b15\n",
            "  Stored in directory: /root/.cache/pip/wheels/9f/5a/d3/6fc3bf6516d2a3eb7e18f9f28b472110b59325f3f258fe9211\n",
            "Successfully built qiskit dlx docplex docloud inflection\n",
            "\u001b[31mERROR: datascience 0.10.6 has requirement folium==0.2.1, but you'll have folium 0.8.3 which is incompatible.\u001b[0m\n",
            "Installing collected packages: sympy, ply, marshmallow, marshmallow-polyfield, qiskit-terra, qiskit-aer, websockets, asn1crypto, cryptography, ntlm-auth, requests-ntlm, nest-asyncio, qiskit-ibmq-provider, qiskit-ignis, dlx, docloud, docplex, pyOpenSSL, ndg-httpsclient, inflection, more-itertools, quandl, pyscf, qiskit-aqua, qiskit\n",
            "  Found existing installation: sympy 1.1.1\n",
            "    Uninstalling sympy-1.1.1:\n",
            "      Successfully uninstalled sympy-1.1.1\n",
            "  Found existing installation: more-itertools 7.2.0\n",
            "    Uninstalling more-itertools-7.2.0:\n",
            "      Successfully uninstalled more-itertools-7.2.0\n",
            "Successfully installed asn1crypto-0.24.0 cryptography-2.7 dlx-1.0.4 docloud-1.0.375 docplex-2.10.155 inflection-0.3.1 marshmallow-2.20.3 marshmallow-polyfield-3.2 more-itertools-5.0.0 ndg-httpsclient-0.5.1 nest-asyncio-1.0.0 ntlm-auth-1.4.0 ply-3.11 pyOpenSSL-19.0.0 pyscf-1.6.3 qiskit-0.12.0 qiskit-aer-0.3.0 qiskit-aqua-0.6.0 qiskit-ibmq-provider-0.3.2 qiskit-ignis-0.2.0 qiskit-terra-0.9.0 quandl-3.4.8 requests-ntlm-1.1.0 sympy-1.4 websockets-7.0\n"
          ],
          "name": "stdout"
        }
      ]
    },
    {
      "cell_type": "code",
      "metadata": {
        "id": "qvHzpE0i5VFw",
        "colab_type": "code",
        "colab": {}
      },
      "source": [
        "from qiskit import *\n",
        "import numpy as nm"
      ],
      "execution_count": 0,
      "outputs": []
    },
    {
      "cell_type": "code",
      "metadata": {
        "id": "TZK5WOAn5YrO",
        "colab_type": "code",
        "outputId": "7e7a8e17-7853-40a3-ed94-98563ee62d43",
        "colab": {
          "base_uri": "https://localhost:8080/",
          "height": 34
        }
      },
      "source": [
        "x=int(input(\"Enter searching element upto 2 qubits\"))"
      ],
      "execution_count": 3,
      "outputs": [
        {
          "output_type": "stream",
          "text": [
            "Enter searching element upto 2 qubits3\n"
          ],
          "name": "stdout"
        }
      ]
    },
    {
      "cell_type": "code",
      "metadata": {
        "id": "jClYuDZE5fNT",
        "colab_type": "code",
        "outputId": "e8848c70-5b22-4215-fdd7-edce8c80ba77",
        "colab": {
          "base_uri": "https://localhost:8080/",
          "height": 34
        }
      },
      "source": [
        "n=bin(x)\n",
        "n=n[2:]\n",
        "def split(n):\n",
        "  return[i for i in n]\n",
        "n=nm.asarray(split(n))\n",
        "print(n)\n",
        "n=n.astype(nm.int)"
      ],
      "execution_count": 4,
      "outputs": [
        {
          "output_type": "stream",
          "text": [
            "['1' '1']\n"
          ],
          "name": "stdout"
        }
      ]
    },
    {
      "cell_type": "code",
      "metadata": {
        "id": "V5ENUC-j7ghE",
        "colab_type": "code",
        "colab": {}
      },
      "source": [
        "q=QuantumRegister(2)\n",
        "c=ClassicalRegister(2)\n",
        "qc=QuantumCircuit(q,c)"
      ],
      "execution_count": 0,
      "outputs": []
    },
    {
      "cell_type": "code",
      "metadata": {
        "id": "7BnheYTz-Oxj",
        "colab_type": "code",
        "colab": {}
      },
      "source": [
        "p=n.shape[0]\n",
        "for i in range(p):\n",
        "  qc.h(q[i])"
      ],
      "execution_count": 0,
      "outputs": []
    },
    {
      "cell_type": "code",
      "metadata": {
        "id": "mnAZR5KBBMPw",
        "colab_type": "code",
        "colab": {}
      },
      "source": [
        "if((n[0]==1)and(n[1]==1)):\n",
        "    qc.h(q[1])\n",
        "    qc.cx(q[0],q[1])\n",
        "    qc.h(q[1])\n",
        "elif((n[0]==1)and(n[1]==0)):\n",
        "    qc.x(q[0])\n",
        "    qc.h(q[1])\n",
        "    qc.cx(q[0],q[1])\n",
        "    qc.h(q[1])\n",
        "    qc.x(q[0])\n",
        "elif((n[0]==0)and(n[1]==0)):\n",
        "    qc.x(q[0])\n",
        "    qc.x(q[1])\n",
        "    qc.h(q[1])\n",
        "    qc.cx(q[0],q[1])\n",
        "    qc.h(q[1])\n",
        "    qc.x(q[1])\n",
        "    qc.x(q[0])\n",
        "elif((n[0]==0)and(n[1]==1)):\n",
        "    qc.x(q[1])\n",
        "    qc.h(q[0])\n",
        "    qc.cx(q[1],q[0])\n",
        "    qc.h(q[0])\n",
        "    qc.x(q[1])\n"
      ],
      "execution_count": 0,
      "outputs": []
    },
    {
      "cell_type": "code",
      "metadata": {
        "id": "V1dAA-EM-mzW",
        "colab_type": "code",
        "outputId": "4c9de7c9-d545-4fa2-f9c4-688b0d1a4eaa",
        "colab": {
          "base_uri": "https://localhost:8080/",
          "height": 185
        }
      },
      "source": [
        "qc.draw(output=\"mpl\")"
      ],
      "execution_count": 8,
      "outputs": [
        {
          "output_type": "execute_result",
          "data": {
            "image/png": "[encoded data removed]",
            "text/plain": [
              "<Figure size 408.156x204.68 with 1 Axes>"
            ]
          },
          "metadata": {
            "tags": []
          },
          "execution_count": 8
        }
      ]
    },
    {
      "cell_type": "code",
      "metadata": {
        "id": "QbdLGPem-3Bu",
        "colab_type": "code",
        "colab": {}
      },
      "source": [
        "for i in range(p):\n",
        "  qc.h(q[i])"
      ],
      "execution_count": 0,
      "outputs": []
    },
    {
      "cell_type": "code",
      "metadata": {
        "id": "lcOho0ykATO-",
        "colab_type": "code",
        "outputId": "d1f5f477-8884-4aad-f6b5-eea6713da028",
        "colab": {
          "base_uri": "https://localhost:8080/",
          "height": 34
        }
      },
      "source": [
        "qc.h(q[1])\n",
        "qc.cx(q[0],q[1])\n",
        "qc.h(q[1])\n",
        "qc.x(q[0])\n",
        "qc.h(q[1])\n",
        "qc.cx(q[0],q[1])\n",
        "qc.x(q[0])\n",
        "qc.h(q[1])\n",
        "qc.x(q[1])\n",
        "qc.h(q[0])\n",
        "qc.cx(q[1],q[0])\n",
        "qc.x(q[1])\n",
        "qc.h(q[0])\n",
        "\n",
        "for i in range(p):\n",
        "  qc.h(q[i])\n",
        "\n",
        "qc.measure(q[0],c[0])\n",
        "qc.measure(q[1],c[1])"
      ],
      "execution_count": 10,
      "outputs": [
        {
          "output_type": "execute_result",
          "data": {
            "text/plain": [
              "<qiskit.circuit.instructionset.InstructionSet at 0x7feb50b73710>"
            ]
          },
          "metadata": {
            "tags": []
          },
          "execution_count": 10
        }
      ]
    },
    {
      "cell_type": "code",
      "metadata": {
        "id": "sgFJR8ahEtuB",
        "colab_type": "code",
        "outputId": "bf979e7c-68ea-433c-b021-f4de4a66121d",
        "colab": {
          "base_uri": "https://localhost:8080/",
          "height": 185
        }
      },
      "source": [
        "qc.draw(output=\"mpl\")"
      ],
      "execution_count": 11,
      "outputs": [
        {
          "output_type": "execute_result",
          "data": {
            "image/png": "[encoded data removed]",
            "text/plain": [
              "<Figure size 1190.76x204.68 with 1 Axes>"
            ]
          },
          "metadata": {
            "tags": []
          },
          "execution_count": 11
        }
      ]
    },
    {
      "cell_type": "code",
      "metadata": {
        "id": "Htwv6q8nEw2i",
        "colab_type": "code",
        "outputId": "333d1a34-c0c3-4fd8-eea3-2e639224bf77",
        "colab": {
          "base_uri": "https://localhost:8080/",
          "height": 335
        }
      },
      "source": [
        "sim = Aer.get_backend('qasm_simulator')\n",
        "res=execute(qc, backend=sim).result()\n",
        "from qiskit.visualization import plot_histogram as ph\n",
        "ph(res.get_counts(qc)) "
      ],
      "execution_count": 12,
      "outputs": [
        {
          "output_type": "execute_result",
          "data": {
            "image/png": "[encoded data removed]",
            "text/plain": [
              "<Figure size 504x360 with 1 Axes>"
            ]
          },
          "metadata": {
            "tags": []
          },
          "execution_count": 12
        }
      ]
    },
    {
      "cell_type": "code",
      "metadata": {
        "id": "Fp9z4QfbFAsT",
        "colab_type": "code",
        "colab": {}
      },
      "source": [
        ""
      ],
      "execution_count": 0,
      "outputs": []
    }
  ]
}